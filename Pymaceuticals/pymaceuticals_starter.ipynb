{
 "cells": [
  {
   "cell_type": "markdown",
   "metadata": {},
   "source": [
    "## Observations and Insights"
   ]
  },
  {
   "cell_type": "markdown",
   "metadata": {},
   "source": []
  },
  {
   "cell_type": "markdown",
   "metadata": {},
   "source": [
    "## Dependencies and starter code"
   ]
  },
  {
   "cell_type": "code",
   "execution_count": 1,
   "metadata": {},
   "outputs": [],
   "source": [
    "# Dependencies and Setup\n",
    "import matplotlib.pyplot as plt\n",
    "import pandas as pd\n",
    "import scipy.stats as st\n",
    "\n",
    "# Study data files\n",
    "mouse_metadata = \"data/Mouse_metadata.csv\"\n",
    "study_results = \"data/Study_results.csv\"\n",
    "\n",
    "# Read the mouse data and the study results\n",
    "mouse_metadata = pd.read_csv(mouse_metadata)\n",
    "study_results = pd.read_csv(study_results)\n"
   ]
  },
  {
   "cell_type": "code",
   "execution_count": 2,
   "metadata": {},
   "outputs": [
    {
     "data": {
      "text/html": "<div>\n<style scoped>\n    .dataframe tbody tr th:only-of-type {\n        vertical-align: middle;\n    }\n\n    .dataframe tbody tr th {\n        vertical-align: top;\n    }\n\n    .dataframe thead th {\n        text-align: right;\n    }\n</style>\n<table border=\"1\" class=\"dataframe\">\n  <thead>\n    <tr style=\"text-align: right;\">\n      <th></th>\n      <th>Mouse ID</th>\n      <th>Drug Regimen</th>\n      <th>Sex</th>\n      <th>Age_months</th>\n      <th>Weight (g)</th>\n    </tr>\n  </thead>\n  <tbody>\n    <tr>\n      <td>0</td>\n      <td>k403</td>\n      <td>Ramicane</td>\n      <td>Male</td>\n      <td>21</td>\n      <td>16</td>\n    </tr>\n    <tr>\n      <td>1</td>\n      <td>s185</td>\n      <td>Capomulin</td>\n      <td>Female</td>\n      <td>3</td>\n      <td>17</td>\n    </tr>\n    <tr>\n      <td>2</td>\n      <td>x401</td>\n      <td>Capomulin</td>\n      <td>Female</td>\n      <td>16</td>\n      <td>15</td>\n    </tr>\n    <tr>\n      <td>3</td>\n      <td>m601</td>\n      <td>Capomulin</td>\n      <td>Male</td>\n      <td>22</td>\n      <td>17</td>\n    </tr>\n    <tr>\n      <td>4</td>\n      <td>g791</td>\n      <td>Ramicane</td>\n      <td>Male</td>\n      <td>11</td>\n      <td>16</td>\n    </tr>\n  </tbody>\n</table>\n</div>",
      "text/plain": "  Mouse ID Drug Regimen     Sex  Age_months  Weight (g)\n0     k403     Ramicane    Male          21          16\n1     s185    Capomulin  Female           3          17\n2     x401    Capomulin  Female          16          15\n3     m601    Capomulin    Male          22          17\n4     g791     Ramicane    Male          11          16"
     },
     "execution_count": 2,
     "metadata": {},
     "output_type": "execute_result"
    }
   ],
   "source": [
    "mouse_metadata.head()"
   ]
  },
  {
   "cell_type": "code",
   "execution_count": 3,
   "metadata": {},
   "outputs": [
    {
     "data": {
      "text/html": "<div>\n<style scoped>\n    .dataframe tbody tr th:only-of-type {\n        vertical-align: middle;\n    }\n\n    .dataframe tbody tr th {\n        vertical-align: top;\n    }\n\n    .dataframe thead th {\n        text-align: right;\n    }\n</style>\n<table border=\"1\" class=\"dataframe\">\n  <thead>\n    <tr style=\"text-align: right;\">\n      <th></th>\n      <th>Mouse ID</th>\n      <th>Timepoint</th>\n      <th>Tumor Volume (mm3)</th>\n      <th>Metastatic Sites</th>\n    </tr>\n  </thead>\n  <tbody>\n    <tr>\n      <td>0</td>\n      <td>b128</td>\n      <td>0</td>\n      <td>45.0</td>\n      <td>0</td>\n    </tr>\n    <tr>\n      <td>1</td>\n      <td>f932</td>\n      <td>0</td>\n      <td>45.0</td>\n      <td>0</td>\n    </tr>\n    <tr>\n      <td>2</td>\n      <td>g107</td>\n      <td>0</td>\n      <td>45.0</td>\n      <td>0</td>\n    </tr>\n    <tr>\n      <td>3</td>\n      <td>a457</td>\n      <td>0</td>\n      <td>45.0</td>\n      <td>0</td>\n    </tr>\n    <tr>\n      <td>4</td>\n      <td>c819</td>\n      <td>0</td>\n      <td>45.0</td>\n      <td>0</td>\n    </tr>\n  </tbody>\n</table>\n</div>",
      "text/plain": "  Mouse ID  Timepoint  Tumor Volume (mm3)  Metastatic Sites\n0     b128          0                45.0                 0\n1     f932          0                45.0                 0\n2     g107          0                45.0                 0\n3     a457          0                45.0                 0\n4     c819          0                45.0                 0"
     },
     "execution_count": 3,
     "metadata": {},
     "output_type": "execute_result"
    }
   ],
   "source": [
    "study_results.head()"
   ]
  },
  {
   "cell_type": "code",
   "execution_count": 4,
   "metadata": {},
   "outputs": [
    {
     "data": {
      "text/html": "<div>\n<style scoped>\n    .dataframe tbody tr th:only-of-type {\n        vertical-align: middle;\n    }\n\n    .dataframe tbody tr th {\n        vertical-align: top;\n    }\n\n    .dataframe thead th {\n        text-align: right;\n    }\n</style>\n<table border=\"1\" class=\"dataframe\">\n  <thead>\n    <tr style=\"text-align: right;\">\n      <th></th>\n      <th>Mouse ID</th>\n      <th>Drug Regimen</th>\n      <th>Sex</th>\n      <th>Age_months</th>\n      <th>Weight (g)</th>\n      <th>Timepoint</th>\n      <th>Tumor Volume (mm3)</th>\n      <th>Metastatic Sites</th>\n    </tr>\n  </thead>\n  <tbody>\n    <tr>\n      <td>0</td>\n      <td>k403</td>\n      <td>Ramicane</td>\n      <td>Male</td>\n      <td>21</td>\n      <td>16</td>\n      <td>0</td>\n      <td>45.000000</td>\n      <td>0</td>\n    </tr>\n    <tr>\n      <td>1</td>\n      <td>k403</td>\n      <td>Ramicane</td>\n      <td>Male</td>\n      <td>21</td>\n      <td>16</td>\n      <td>5</td>\n      <td>38.825898</td>\n      <td>0</td>\n    </tr>\n    <tr>\n      <td>2</td>\n      <td>k403</td>\n      <td>Ramicane</td>\n      <td>Male</td>\n      <td>21</td>\n      <td>16</td>\n      <td>10</td>\n      <td>35.014271</td>\n      <td>1</td>\n    </tr>\n    <tr>\n      <td>3</td>\n      <td>k403</td>\n      <td>Ramicane</td>\n      <td>Male</td>\n      <td>21</td>\n      <td>16</td>\n      <td>15</td>\n      <td>34.223992</td>\n      <td>1</td>\n    </tr>\n    <tr>\n      <td>4</td>\n      <td>k403</td>\n      <td>Ramicane</td>\n      <td>Male</td>\n      <td>21</td>\n      <td>16</td>\n      <td>20</td>\n      <td>32.997729</td>\n      <td>1</td>\n    </tr>\n  </tbody>\n</table>\n</div>",
      "text/plain": "  Mouse ID Drug Regimen   Sex  Age_months  Weight (g)  Timepoint  \\\n0     k403     Ramicane  Male          21          16          0   \n1     k403     Ramicane  Male          21          16          5   \n2     k403     Ramicane  Male          21          16         10   \n3     k403     Ramicane  Male          21          16         15   \n4     k403     Ramicane  Male          21          16         20   \n\n   Tumor Volume (mm3)  Metastatic Sites  \n0           45.000000                 0  \n1           38.825898                 0  \n2           35.014271                 1  \n3           34.223992                 1  \n4           32.997729                 1  "
     },
     "execution_count": 4,
     "metadata": {},
     "output_type": "execute_result"
    }
   ],
   "source": [
    "# Combine the data into a single dataset using an outer join\n",
    "# returns all the rows from the left dataframe, all the rows from the right dataframe, and matches up rows where possible, with NaNs elsewhere\n",
    "merge_data = pd.merge(mouse_metadata, study_results, on='Mouse ID', how='outer')\n",
    "merge_data.head()\n"
   ]
  },
  {
   "cell_type": "code",
   "execution_count": 25,
   "metadata": {},
   "outputs": [
    {
     "data": {
      "text/html": "<div>\n<style scoped>\n    .dataframe tbody tr th:only-of-type {\n        vertical-align: middle;\n    }\n\n    .dataframe tbody tr th {\n        vertical-align: top;\n    }\n\n    .dataframe thead th {\n        text-align: right;\n    }\n</style>\n<table border=\"1\" class=\"dataframe\">\n  <thead>\n    <tr style=\"text-align: right;\">\n      <th></th>\n      <th>Mouse ID</th>\n      <th>Drug Regimen</th>\n      <th>Sex</th>\n      <th>Age_months</th>\n      <th>Weight (g)</th>\n      <th>Timepoint</th>\n      <th>Tumor Volume (mm3)</th>\n      <th>Metastatic Sites</th>\n    </tr>\n  </thead>\n  <tbody>\n    <tr>\n      <td>9</td>\n      <td>k403</td>\n      <td>Ramicane</td>\n      <td>Male</td>\n      <td>21</td>\n      <td>16</td>\n      <td>45</td>\n      <td>22.050126</td>\n      <td>1</td>\n    </tr>\n    <tr>\n      <td>19</td>\n      <td>s185</td>\n      <td>Capomulin</td>\n      <td>Female</td>\n      <td>3</td>\n      <td>17</td>\n      <td>45</td>\n      <td>23.343598</td>\n      <td>1</td>\n    </tr>\n    <tr>\n      <td>8</td>\n      <td>k403</td>\n      <td>Ramicane</td>\n      <td>Male</td>\n      <td>21</td>\n      <td>16</td>\n      <td>40</td>\n      <td>24.365505</td>\n      <td>1</td>\n    </tr>\n    <tr>\n      <td>18</td>\n      <td>s185</td>\n      <td>Capomulin</td>\n      <td>Female</td>\n      <td>3</td>\n      <td>17</td>\n      <td>40</td>\n      <td>25.472143</td>\n      <td>1</td>\n    </tr>\n    <tr>\n      <td>7</td>\n      <td>k403</td>\n      <td>Ramicane</td>\n      <td>Male</td>\n      <td>21</td>\n      <td>16</td>\n      <td>35</td>\n      <td>26.546993</td>\n      <td>1</td>\n    </tr>\n  </tbody>\n</table>\n</div>",
      "text/plain": "   Mouse ID Drug Regimen     Sex  Age_months  Weight (g)  Timepoint  \\\n9      k403     Ramicane    Male          21          16         45   \n19     s185    Capomulin  Female           3          17         45   \n8      k403     Ramicane    Male          21          16         40   \n18     s185    Capomulin  Female           3          17         40   \n7      k403     Ramicane    Male          21          16         35   \n\n    Tumor Volume (mm3)  Metastatic Sites  \n9            22.050126                 1  \n19           23.343598                 1  \n8            24.365505                 1  \n18           25.472143                 1  \n7            26.546993                 1  "
     },
     "execution_count": 25,
     "metadata": {},
     "output_type": "execute_result"
    }
   ],
   "source": [
    "# Sort merged database by Tumor Volume to allow for median values to be correct\n",
    "merge_data_sort = merge_data.sort_values([\"Tumor Volume (mm3)\"], ascending=True)\n",
    "\n",
    "merge_data_sort.head()"
   ]
  },
  {
   "cell_type": "markdown",
   "metadata": {},
   "source": [
    "## Summary statistics"
   ]
  },
  {
   "cell_type": "code",
   "execution_count": 26,
   "metadata": {},
   "outputs": [],
   "source": [
    "# Generate a summary statistics table of mean, median, variance, standard deviation, and SEM of the tumor volume for each regimen\n",
    "#Identify the diferrent Drug Regimen along with the total tumer volume for each using .groupby\n",
    "regimen_grouped = merge_data_sort.groupby([\"Drug Regimen\"])\n",
    "regimen_grouped\n",
    "\n",
    "#create a variable to capture the total tumor volume for each regimen\n",
    "tumor_volume = regimen_grouped[\"Tumor Volume (mm3)\"].sum()\n",
    "\n",
    "#create computation for the mean of each regimen\n",
    "regimen_mean = regimen_grouped[\"Tumor Volume (mm3)\"].mean()\n",
    "\n",
    "#Create computation for the median of each regimen\n",
    "regimen_median = regimen_grouped[\"Tumor Volume (mm3)\"].median()\n",
    "\n",
    "#Create computation for the variance of each regimen\n",
    "regimen_variance = regimen_grouped[\"Tumor Volume (mm3)\"].var()\n",
    "\n",
    "#create computation for the standard deviation of each regimen\n",
    "regimen_std = regimen_grouped[\"Tumor Volume (mm3)\"].std()\n",
    "\n",
    "#create computation for the SEM\n",
    "regimen_sem = regimen_grouped[\"Tumor Volume (mm3)\"].sem()\n"
   ]
  },
  {
   "cell_type": "code",
   "execution_count": 27,
   "metadata": {},
   "outputs": [
    {
     "data": {
      "text/html": "<div>\n<style scoped>\n    .dataframe tbody tr th:only-of-type {\n        vertical-align: middle;\n    }\n\n    .dataframe tbody tr th {\n        vertical-align: top;\n    }\n\n    .dataframe thead th {\n        text-align: right;\n    }\n</style>\n<table border=\"1\" class=\"dataframe\">\n  <thead>\n    <tr style=\"text-align: right;\">\n      <th></th>\n      <th>Total Tumor Volume</th>\n      <th>Mean</th>\n      <th>Median</th>\n      <th>Variance</th>\n      <th>Standard Deviation</th>\n      <th>SEM</th>\n    </tr>\n    <tr>\n      <th>Drug Regimen</th>\n      <th></th>\n      <th></th>\n      <th></th>\n      <th></th>\n      <th></th>\n      <th></th>\n    </tr>\n  </thead>\n  <tbody>\n    <tr>\n      <td>Capomulin</td>\n      <td>9,355.42</td>\n      <td>40.68</td>\n      <td>41.56</td>\n      <td>24.95</td>\n      <td>4.99</td>\n      <td>0.33</td>\n    </tr>\n    <tr>\n      <td>Ceftamin</td>\n      <td>9,361.23</td>\n      <td>52.59</td>\n      <td>51.78</td>\n      <td>39.29</td>\n      <td>6.27</td>\n      <td>0.47</td>\n    </tr>\n    <tr>\n      <td>Infubinol</td>\n      <td>9,413.49</td>\n      <td>52.88</td>\n      <td>51.82</td>\n      <td>43.13</td>\n      <td>6.57</td>\n      <td>0.49</td>\n    </tr>\n    <tr>\n      <td>Ketapril</td>\n      <td>10,384.30</td>\n      <td>55.24</td>\n      <td>53.70</td>\n      <td>68.55</td>\n      <td>8.28</td>\n      <td>0.60</td>\n    </tr>\n    <tr>\n      <td>Naftisol</td>\n      <td>10,105.67</td>\n      <td>54.33</td>\n      <td>52.51</td>\n      <td>66.17</td>\n      <td>8.13</td>\n      <td>0.60</td>\n    </tr>\n    <tr>\n      <td>Placebo</td>\n      <td>9,780.08</td>\n      <td>54.03</td>\n      <td>52.29</td>\n      <td>61.17</td>\n      <td>7.82</td>\n      <td>0.58</td>\n    </tr>\n    <tr>\n      <td>Propriva</td>\n      <td>8,423.93</td>\n      <td>52.32</td>\n      <td>50.85</td>\n      <td>42.35</td>\n      <td>6.51</td>\n      <td>0.51</td>\n    </tr>\n    <tr>\n      <td>Ramicane</td>\n      <td>9,169.42</td>\n      <td>40.22</td>\n      <td>40.67</td>\n      <td>23.49</td>\n      <td>4.85</td>\n      <td>0.32</td>\n    </tr>\n    <tr>\n      <td>Stelasyn</td>\n      <td>9,816.20</td>\n      <td>54.23</td>\n      <td>52.43</td>\n      <td>59.45</td>\n      <td>7.71</td>\n      <td>0.57</td>\n    </tr>\n    <tr>\n      <td>Zoniferol</td>\n      <td>9,689.04</td>\n      <td>53.24</td>\n      <td>51.82</td>\n      <td>48.53</td>\n      <td>6.97</td>\n      <td>0.52</td>\n    </tr>\n  </tbody>\n</table>\n</div>",
      "text/plain": "             Total Tumor Volume   Mean Median Variance Standard Deviation  \\\nDrug Regimen                                                                \nCapomulin              9,355.42  40.68  41.56    24.95               4.99   \nCeftamin               9,361.23  52.59  51.78    39.29               6.27   \nInfubinol              9,413.49  52.88  51.82    43.13               6.57   \nKetapril              10,384.30  55.24  53.70    68.55               8.28   \nNaftisol              10,105.67  54.33  52.51    66.17               8.13   \nPlacebo                9,780.08  54.03  52.29    61.17               7.82   \nPropriva               8,423.93  52.32  50.85    42.35               6.51   \nRamicane               9,169.42  40.22  40.67    23.49               4.85   \nStelasyn               9,816.20  54.23  52.43    59.45               7.71   \nZoniferol              9,689.04  53.24  51.82    48.53               6.97   \n\n               SEM  \nDrug Regimen        \nCapomulin     0.33  \nCeftamin      0.47  \nInfubinol     0.49  \nKetapril      0.60  \nNaftisol      0.60  \nPlacebo       0.58  \nPropriva      0.51  \nRamicane      0.32  \nStelasyn      0.57  \nZoniferol     0.52  "
     },
     "execution_count": 27,
     "metadata": {},
     "output_type": "execute_result"
    }
   ],
   "source": [
    "summary_stats = pd.DataFrame({\"Total Tumor Volume\": tumor_volume, \"Mean\": regimen_mean, \"Median\":regimen_median, \"Variance\":regimen_variance, \"Standard Deviation\": regimen_std, \"SEM\": regimen_sem})\n",
    "\n",
    "#Format cells in Dataframe\n",
    "summary_stats[\"Total Tumor Volume\"] = summary_stats[\"Total Tumor Volume\"].astype(float).map(\"{:,.2f}\".format)\n",
    "\n",
    "summary_stats[\"Mean\"] = summary_stats[\"Mean\"].astype(float).map(\"{:.2f}\".format)\n",
    "\n",
    "summary_stats[\"Median\"] = summary_stats[\"Median\"].astype(float).map(\"{:,.2f}\".format)\n",
    "\n",
    "summary_stats[\"Variance\"] = summary_stats[\"Variance\"].astype(float).map(\"{:,.2f}\".format)\n",
    "\n",
    "summary_stats[\"Standard Deviation\"] = summary_stats[\"Standard Deviation\"].astype(float).map(\"{:,.2f}\".format)\n",
    "\n",
    "summary_stats[\"SEM\"] = summary_stats[\"SEM\"].astype(float).map(\"{:,.2f}\".format)\n",
    "\n",
    "summary_stats"
   ]
  },
  {
   "cell_type": "markdown",
   "metadata": {},
   "source": [
    "## Bar plots"
   ]
  },
  {
   "cell_type": "code",
   "execution_count": 30,
   "metadata": {},
   "outputs": [],
   "source": [
    "# Generate a bar plot showing number of data points for each treatment regimen using pandas\n"
   ]
  },
  {
   "cell_type": "code",
   "execution_count": 9,
   "metadata": {},
   "outputs": [],
   "source": [
    "# Generate a bar plot showing number of data points for each treatment regimen using pyplot"
   ]
  },
  {
   "cell_type": "markdown",
   "metadata": {},
   "source": [
    "## Pie plots"
   ]
  },
  {
   "cell_type": "code",
   "execution_count": 10,
   "metadata": {},
   "outputs": [],
   "source": [
    "# Generate a pie plot showing the distribution of female versus male mice using pandas"
   ]
  },
  {
   "cell_type": "code",
   "execution_count": 11,
   "metadata": {},
   "outputs": [],
   "source": [
    "# Generate a pie plot showing the distribution of female versus male mice using pyplot"
   ]
  },
  {
   "cell_type": "markdown",
   "metadata": {},
   "source": [
    "## Quartiles, outliers and boxplots"
   ]
  },
  {
   "cell_type": "code",
   "execution_count": 12,
   "metadata": {},
   "outputs": [],
   "source": [
    "# Calculate the final tumor volume of each mouse across four of the most promising treatment regimens. Calculate the IQR and quantitatively determine if there are any potential outliers. "
   ]
  },
  {
   "cell_type": "code",
   "execution_count": 13,
   "metadata": {},
   "outputs": [],
   "source": [
    "# Generate a box plot of the final tumor volume of each mouse across four regimens of interest"
   ]
  },
  {
   "cell_type": "markdown",
   "metadata": {},
   "source": [
    "## Line and scatter plots"
   ]
  },
  {
   "cell_type": "code",
   "execution_count": 14,
   "metadata": {},
   "outputs": [],
   "source": [
    "# Generate a line plot of time point versus tumor volume for a mouse treated with Capomulin"
   ]
  },
  {
   "cell_type": "code",
   "execution_count": 15,
   "metadata": {},
   "outputs": [],
   "source": [
    "# Generate a scatter plot of mouse weight versus average tumor volume for the Capomulin regimen"
   ]
  },
  {
   "cell_type": "code",
   "execution_count": 16,
   "metadata": {},
   "outputs": [],
   "source": [
    "# Calculate the correlation coefficient and linear regression model for mouse weight and average tumor volume for the Capomulin regimen"
   ]
  },
  {
   "cell_type": "code",
   "execution_count": null,
   "metadata": {},
   "outputs": [],
   "source": []
  }
 ],
 "metadata": {
  "anaconda-cloud": {},
  "kernelspec": {
   "display_name": "Python 3",
   "language": "python",
   "name": "python3"
  },
  "language_info": {
   "codemirror_mode": {
    "name": "ipython",
    "version": 3
   },
   "file_extension": ".py",
   "mimetype": "text/x-python",
   "name": "python",
   "nbconvert_exporter": "python",
   "pygments_lexer": "ipython3",
   "version": "3.8.0-final"
  }
 },
 "nbformat": 4,
 "nbformat_minor": 2
}